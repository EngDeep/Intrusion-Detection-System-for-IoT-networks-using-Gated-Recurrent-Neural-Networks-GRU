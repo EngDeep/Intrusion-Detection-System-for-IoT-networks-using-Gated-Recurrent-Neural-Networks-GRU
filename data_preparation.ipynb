{
 "cells": [
  {
   "cell_type": "code",
   "execution_count": 108,
   "metadata": {},
   "outputs": [],
   "source": [
    "#Load the Entire Data\n",
    "#Importing all the required Libraries\n",
    "\n",
    "import pandas as pd\n",
    "import numpy as np\n",
    "mydata = pd.read_csv(\"C:/Users/manp/Documents/IoT/dataset/fullkdddata/kddcup.data_10_percent/kddcup.data_10_percent_corrected.csv\",header = None,engine = 'python',sep=\",\")\n",
    "\n"
   ]
  },
  {
   "cell_type": "code",
   "execution_count": 109,
   "metadata": {
    "collapsed": true
   },
   "outputs": [],
   "source": [
    "mydata.columns = [\"duration\",\"protocol_type\",\"service\",\"flag\",\"src_bytes\",\"dst_bytes\",\"land\",\"wrong_fragement\",\n",
    "                   \"urgent\",\n",
    "                  \"hot\",\"num_failed_logins\",\"logged_in\",\"num_compressed\",\"root_shell\",\"su_attempted\",\"num_root\",\n",
    "                   \"num_file_creations\",\n",
    "                  \"num_shells\",\"num_access_files\",\"num_outbound_cmds\",\"is_hot_login\",\"is_guest_login\",\"count\",\"srv_count\",\"serror_rate\",\n",
    "                  \"srv_serror_rate\",\"rerror_rate\",\"srv_rerror_rate\",\"same_srv_rate\",\"diff_srv_rate\",\n",
    "                   \"srv_diff_host_rate\",\"dst_host_count\",\n",
    "                  \"dst_host_srv_count\",\"dst_host_same_srv_rate\",\"dst_host_diff_srv_rate\",\"dst_host_same_src_port_rate\",\n",
    "                   \"dst_host_srv_diff_host_rate\",\"dst_host_serror_rate\",\"dst_host_srv_serror_rate\",\"dst_host_rerror_rate\",\n",
    "                  \"dst_host_srv_rerror_rate\",\"labels\"]\n"
   ]
  },
  {
   "cell_type": "code",
   "execution_count": 120,
   "metadata": {},
   "outputs": [
    {
     "name": "stdout",
     "output_type": "stream",
     "text": [
      "smurf.              280790\n",
      "normal.              97278\n",
      "back.                 2203\n",
      "satan.                1589\n",
      "pod.                   264\n",
      "guess_passwd.           53\n",
      "buffer_overflow.        30\n",
      "warezmaster.            20\n",
      "imap.                   12\n",
      "loadmodule.              9\n",
      "ftp_write.               8\n",
      "multihop.                7\n",
      "perl.                    3\n",
      "Name: labels, dtype: int64\n"
     ]
    }
   ],
   "source": [
    "ApplicationLayer = mydata[(mydata['labels'].isin(['normal.','smurf.','back.','satan.','pod.','guess_passwd.','buffer_overflow.',\n",
    "                                                    'warezmaster.','imap.','loadmodule.','ftp_write.','multihop.','perl.']))]\n",
    "print (ApplicationLayer['labels'].value_counts())\n",
    "\n",
    "\n",
    "ApplicationLayer.to_csv('C:\\\\Users\\manp\\Documents\\IoT\\Final\\DataPrep\\Results\\FinalApp.txt',header = None,index = False)\n"
   ]
  },
  {
   "cell_type": "code",
   "execution_count": 126,
   "metadata": {},
   "outputs": [
    {
     "data": {
      "text/plain": [
       "382266"
      ]
     },
     "execution_count": 126,
     "metadata": {},
     "output_type": "execute_result"
    }
   ],
   "source": [
    "len(ApplicationLayer)\n"
   ]
  },
  {
   "cell_type": "code",
   "execution_count": 121,
   "metadata": {},
   "outputs": [
    {
     "name": "stdout",
     "output_type": "stream",
     "text": [
      "neptune.            107201\n",
      "normal.              97278\n",
      "portsweep.            1040\n",
      "teardrop.              979\n",
      "nmap.                  231\n",
      "buffer_overflow.        30\n",
      "land.                   21\n",
      "Name: labels, dtype: int64\n"
     ]
    }
   ],
   "source": [
    "TransportLayer = mydata[(mydata['labels'].isin(['normal.','neptune.','portsweep.','teardrop.','buffer_overflow.',\n",
    "                                                 'land.','nmap.']))]\n",
    "print (TransportLayer['labels'].value_counts())\n",
    "len(TransportLayer)\n",
    "TransportLayer.to_csv('C:\\\\Users\\manp\\Documents\\IoT\\Final\\DataPrep\\Results\\TransApp.txt',header = None,index = False)\n"
   ]
  },
  {
   "cell_type": "code",
   "execution_count": 125,
   "metadata": {},
   "outputs": [
    {
     "data": {
      "text/plain": [
       "206780"
      ]
     },
     "execution_count": 125,
     "metadata": {},
     "output_type": "execute_result"
    }
   ],
   "source": [
    "len(TransportLayer)"
   ]
  },
  {
   "cell_type": "code",
   "execution_count": 124,
   "metadata": {},
   "outputs": [
    {
     "name": "stdout",
     "output_type": "stream",
     "text": [
      "smurf.              280790\n",
      "normal.              97278\n",
      "ipsweep.              1247\n",
      "pod.                   264\n",
      "buffer_overflow.        30\n",
      "Name: labels, dtype: int64\n",
      "379609\n"
     ]
    }
   ],
   "source": [
    "NetworkLayer = mydata[(mydata['labels'].isin(['normal.','smurf.','ipsweep.','pod.','buffer_overflow.']))]\n",
    "print (NetworkLayer['labels'].value_counts())\n",
    "print (len(NetworkLayer))\n",
    "NetworkLayer.to_csv('C:\\\\Users\\\\manp\\\\Documents\\\\IoT\\Final\\\\DataPrep\\\\Results\\\\NetwApp.txt',header = None,index = False)\n"
   ]
  }
 ],
 "metadata": {
  "kernelspec": {
   "display_name": "Python 3",
   "language": "python",
   "name": "python3"
  },
  "language_info": {
   "codemirror_mode": {
    "name": "ipython",
    "version": 3
   },
   "file_extension": ".py",
   "mimetype": "text/x-python",
   "name": "python",
   "nbconvert_exporter": "python",
   "pygments_lexer": "ipython3",
   "version": "3.5.2"
  }
 },
 "nbformat": 4,
 "nbformat_minor": 2
}
